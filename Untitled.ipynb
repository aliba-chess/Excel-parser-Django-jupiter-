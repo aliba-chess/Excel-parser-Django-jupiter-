{
 "cells": [
  {
   "cell_type": "code",
   "execution_count": 22,
   "metadata": {},
   "outputs": [],
   "source": [
    "import pandas as pd\n",
    "import sqlite3\n",
    "from sqlite3 import Error"
   ]
  },
  {
   "cell_type": "code",
   "execution_count": 23,
   "metadata": {},
   "outputs": [],
   "source": [
    "df = pd.read_excel('Задание.xlsx', sheet_name='Лист1', header=0)\n",
    "dataf = pd.read_excel('Задание.xlsx', sheet_name='Лист1', header=2)\n",
    "\n",
    "df.rename( columns={'Unnamed: 3':'fact1', 'Unnamed: 4':'fact2','Unnamed: 5':'fact3',\n",
    "                    'Unnamed: 7':'forecast1','Unnamed: 8':'forecast2', 'Unnamed: 9':'forecast3'}, inplace=True )\n",
    "\n",
    "dataf.rename( columns={'Unnamed: 0':'id', 'Unnamed: 1':'company', }, inplace=True )"
   ]
  },
  {
   "cell_type": "code",
   "execution_count": 24,
   "metadata": {},
   "outputs": [],
   "source": [
    "def create_connection(db_file):\n",
    "    \n",
    "    conn = None\n",
    "    try:\n",
    "        conn = sqlite3.connect(db_file)\n",
    "    except Error as e:\n",
    "        print(e)\n",
    "        \n",
    "    return conn"
   ]
  },
  {
   "cell_type": "code",
   "execution_count": 25,
   "metadata": {},
   "outputs": [],
   "source": [
    "def add_total(conn, summing):\n",
    "\n",
    "    sql = ''' INSERT INTO dashboard_order(company,data1,data2,data3,data4,data5,data6,data7,data8)\n",
    "              VALUES(?,?,?,?,?,?,?,?,?) '''\n",
    "    cur = conn.cursor()\n",
    "    cur.execute(sql, summing)\n",
    "    conn.commit()"
   ]
  },
  {
   "cell_type": "code",
   "execution_count": 26,
   "metadata": {},
   "outputs": [
    {
     "name": "stdout",
     "output_type": "stream",
     "text": [
      "[390, 590, 790, 990, 430, 630, 1250, 1450]\n"
     ]
    }
   ],
   "source": [
    "df1 = pd.read_excel('Задание.xlsx', sheet_name='Лист1', header=2)\n",
    "overall = list(df1.sum())[2:]\n",
    "print(overall)"
   ]
  },
  {
   "cell_type": "code",
   "execution_count": 27,
   "metadata": {},
   "outputs": [],
   "source": [
    "def main():\n",
    "    database = 'db.sqlite3'\n",
    "\n",
    "    conn = create_connection(database)\n",
    "    \n",
    "    dataf.to_sql(name='dashboard_order', con=conn, if_exists = 'replace')\n",
    "        \n",
    "    with conn:\n",
    "        total = ('Total', 390, 590, 790, 990, 430, 630, 1250, 1450)\n",
    "        add_total(conn, total)\n",
    "\n",
    "if __name__ == '__main__':\n",
    "    main()"
   ]
  },
  {
   "cell_type": "code",
   "execution_count": null,
   "metadata": {},
   "outputs": [],
   "source": []
  }
 ],
 "metadata": {
  "kernelspec": {
   "display_name": "Python 3",
   "language": "python",
   "name": "python3"
  },
  "language_info": {
   "codemirror_mode": {
    "name": "ipython",
    "version": 3
   },
   "file_extension": ".py",
   "mimetype": "text/x-python",
   "name": "python",
   "nbconvert_exporter": "python",
   "pygments_lexer": "ipython3",
   "version": "3.7.6"
  }
 },
 "nbformat": 4,
 "nbformat_minor": 4
}
